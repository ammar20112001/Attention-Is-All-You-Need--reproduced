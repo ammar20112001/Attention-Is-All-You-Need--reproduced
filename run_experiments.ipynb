{
  "cells": [
    {
      "cell_type": "markdown",
      "metadata": {},
      "source": [
        "# Setup environment"
      ]
    },
    {
      "cell_type": "code",
      "execution_count": null,
      "metadata": {
        "colab": {
          "base_uri": "https://localhost:8080/"
        },
        "id": "YA2Yy6776Ylb",
        "outputId": "5fbc2cd5-6aba-492d-900a-1494d67db731"
      },
      "outputs": [],
      "source": [
        "if \"bootstrap\" not in locals():\n",
        "    # path management for Python\n",
        "    pythonpath, = !echo $PYTHONPATH\n",
        "    if \".\" not in pythonpath.split(\":\"):\n",
        "        pythonpath = \".:\" + pythonpath\n",
        "        %env PYTHONPATH={pythonpath}\n",
        "        !echo $PYTHONPATH\n",
        "\n",
        "    # get both Colab and local notebooks into the same state\n",
        "    !wget --quiet https://gist.githubusercontent.com/ammar20112001/2874c7b494dcdbd905c533362f496cc5/raw/37722b66d6b801d7e199553047664f1c1375f20d/bootstrap_transformers.py -O bootstrap.py\n",
        "    import bootstrap\n",
        "\n",
        "    !pip -q install -r requirement.txt\n",
        "    !ls"
      ]
    },
    {
      "cell_type": "markdown",
      "metadata": {},
      "source": [
        "# Run experiment"
      ]
    },
    {
      "cell_type": "markdown",
      "metadata": {},
      "source": [
        "### Run sweep\n",
        "Run the following code cell to initiate a sweep\n",
        "\n",
        "To change configuration, edit file `sweep_config.py`"
      ]
    },
    {
      "cell_type": "code",
      "execution_count": null,
      "metadata": {},
      "outputs": [],
      "source": [
        "! python3 sweep.py"
      ]
    },
    {
      "cell_type": "markdown",
      "metadata": {},
      "source": [
        "### Single experiment run\n",
        "Run the following code cell to run single experiment\n",
        "\n",
        "To change configuration, edit file `config.py`"
      ]
    },
    {
      "cell_type": "code",
      "execution_count": null,
      "metadata": {},
      "outputs": [],
      "source": [
        "! python3 train.py"
      ]
    },
    {
      "cell_type": "markdown",
      "metadata": {},
      "source": [
        "### Note: LightningCLI implementaiton has been removed\n",
        "The following code cell will throw an error"
      ]
    },
    {
      "cell_type": "code",
      "execution_count": null,
      "metadata": {},
      "outputs": [],
      "source": [
        "! python3 train.py fit \\\n",
        "--trainer.logger=lit_model.wandb_logger \\\n",
        "--trainer.callbacks=lit_model.checkpoint_callback \\\n",
        "--trainer.max_epochs=2"
      ]
    },
    {
      "cell_type": "markdown",
      "metadata": {},
      "source": [
        "# Production\n",
        "\n",
        "Run the `--help` command to see entire list of arguments that can be provided"
      ]
    },
    {
      "cell_type": "code",
      "execution_count": null,
      "metadata": {},
      "outputs": [],
      "source": [
        "!python3 stage_model.py --help"
      ]
    },
    {
      "cell_type": "markdown",
      "metadata": {},
      "source": [
        "### Add model to production\n",
        "\n",
        "To add model to production:\n",
        "- Set `--fetch` to True, False by default\n",
        "- Specify `--entity`, `from_project`, `--artifact`, and also the `--version` of model artifact"
      ]
    },
    {
      "cell_type": "code",
      "execution_count": null,
      "metadata": {},
      "outputs": [],
      "source": [
        "!python3 stage_model.py --fetch \\\n",
        "--entity ammar20112001-ml --from_project Attention-Is-All-You-Need--reproduced --artifact op952jfr --version v2"
      ]
    },
    {
      "cell_type": "markdown",
      "metadata": {},
      "source": [
        "### Run prediction from model checkpoint saved in `Development` environment\n",
        "\n",
        "Just provide `--sentence` argument and the prediction will be made by model.cpkt in Dev\n"
      ]
    },
    {
      "cell_type": "code",
      "execution_count": null,
      "metadata": {},
      "outputs": [],
      "source": [
        "!python3 stage_model.py --sentence 'My name is Ammar'"
      ]
    },
    {
      "cell_type": "markdown",
      "metadata": {},
      "source": [
        "### Run prediction from TorchScript model saved in `Production` environment as `.pt`\n",
        "\n",
        "Set `--torchscript` to True, and provide `--artifact` & `--sentence` argument and the prediction will be made by model-{artifact}.pt in Dev\n"
      ]
    },
    {
      "cell_type": "code",
      "execution_count": null,
      "metadata": {},
      "outputs": [],
      "source": [
        "!python3 stage_model.py --torchscript \\\n",
        "-- artifact op952jfr --sentence 'My name is Ammar'"
      ]
    }
  ],
  "metadata": {
    "accelerator": "GPU",
    "colab": {
      "gpuType": "T4",
      "provenance": []
    },
    "kernelspec": {
      "display_name": "Python 3",
      "name": "python3"
    },
    "language_info": {
      "codemirror_mode": {
        "name": "ipython",
        "version": 3
      },
      "file_extension": ".py",
      "mimetype": "text/x-python",
      "name": "python",
      "nbconvert_exporter": "python",
      "pygments_lexer": "ipython3",
      "version": "3.12.3"
    }
  },
  "nbformat": 4,
  "nbformat_minor": 0
}
